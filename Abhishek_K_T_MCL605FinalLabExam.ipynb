{
  "nbformat": 4,
  "nbformat_minor": 0,
  "metadata": {
    "kernelspec": {
      "display_name": "R",
      "language": "R",
      "name": "ir"
    },
    "language_info": {
      "codemirror_mode": "r",
      "file_extension": ".r",
      "mimetype": "text/x-r-source",
      "name": "R",
      "pygments_lexer": "r",
      "version": "3.3.1"
    },
    "colab": {
      "name": "Abhishek K T_MCL605FinalLabExam.ipynb",
      "provenance": [],
      "collapsed_sections": []
    }
  },
  "cells": [
    {
      "cell_type": "markdown",
      "metadata": {
        "id": "IWo_dG1hE86j"
      },
      "source": [
        "**There are 4 problems. Please read the questions carefully and complete the tasks below. Upload your codes with output using the naming convention \"SudarsanAcharya_MCL605FinalLabExam.ipynb\" to https://tinyurl.com/17ohpzxi**"
      ]
    },
    {
      "cell_type": "code",
      "metadata": {
        "id": "dO8c1j8QqPou"
      },
      "source": [
        "library(ggplot2)"
      ],
      "execution_count": 28,
      "outputs": []
    },
    {
      "cell_type": "markdown",
      "metadata": {
        "id": "W7gWvlfyvMJ7"
      },
      "source": [
        "**Problem-1**: A hospital administrator codes incoming patients suffering gunshot wounds according to whether they have insurance (coding 1 if they do and 0 if they do not) and according to their condition, which is rated as good (g), fair (f), or serious (s). Suppose 10 patients come in during a very busy period at the hospital. Compute the following probabilities using simulation:\r\n",
        "\r\n",
        "1. probability that at most 3 are serious patients and at least 6 are insured.\r\n",
        "2. probability that at least 4 patients who are *both* serious and uninsured."
      ]
    },
    {
      "cell_type": "code",
      "metadata": {
        "colab": {
          "base_uri": "https://localhost:8080/"
        },
        "id": "5ZwjRMX0CgG6",
        "outputId": "2d255014-bcd0-44e8-d826-a02d087eae39"
      },
      "source": [
        "#Sampling Space\r\n",
        "S = paste0(replicate(3, c(0,1)), c('g', 'f', 's'))\r\n",
        "\r\n",
        "# Correspnding probabilites for the outcomes in the sampling space\r\n",
        "p = (1/length(S)) * replicate(length(S), 1)\r\n",
        "\r\n",
        "simulationsize = 100000\r\n",
        "npatients = 10 # number of patients who come in\r\n",
        "\r\n",
        "simulatedData = replicate(simulationsize, sample(S, size = npatients, prob = p, replace = TRUE))\r\n",
        "#print(simulatedData) # use only for checking with simulationsize = 10\r\n",
        "\r\n",
        "# Function to check if at most 3 are serious patients and at least 6 are insured\r\n",
        "# patients\r\n",
        "checkEvent1 = function(data){\r\n",
        "  # Extract the first numeral in the simulated data\r\n",
        "  numbers = as.numeric(substr(data, 1, 1))\r\n",
        "  # Extract the second character in the simulated data\r\n",
        "  conditions = substr(data, 2, 2)\r\n",
        "\r\n",
        "  if ((sum(conditions == 's') <= 3) && (sum(numbers == 1) >= 6)){\r\n",
        "    return(1)\r\n",
        "    }\r\n",
        "  return(0)\r\n",
        "  }\r\n",
        "\r\n",
        "approximate_probability = sum(apply(simulatedData, 2, checkEvent1)) / simulationsize\r\n",
        "cat('Approximate probability of getting at most 3 serious and at least 6 insured patients = ', approximate_probability, '\\n')\r\n",
        "\r\n",
        "# Function to check if at least 4 patients who are both serious and uninsured\r\n",
        "checkEvent2 = function(data){\r\n",
        "  if (sum(data == \"0s\") >= 4){\r\n",
        "    return(1)\r\n",
        "    }\r\n",
        "  return(0)\r\n",
        "  }\r\n",
        "\r\n",
        "approximate_probability = sum(apply(simulatedData, 2, checkEvent2)) / simulationsize\r\n",
        "cat('Approximate probability of getting at least 4 patients who are both serious and uninsured = ', approximate_probability, '\\n')"
      ],
      "execution_count": 18,
      "outputs": [
        {
          "output_type": "stream",
          "text": [
            "Approximate probability of getting at most 3 serious and at least 6 insured patients =  0.21014 \n",
            "Approximate probability of getting at least 4 patients who are both serious and uninsured =  0.07016 \n"
          ],
          "name": "stdout"
        }
      ]
    },
    {
      "cell_type": "markdown",
      "metadata": {
        "id": "60JgucmRAGyv"
      },
      "source": [
        "**Problem-2**: The number of times that a person contracts a cold in a given year is a Poisson random variable with parameter $\\lambda=5.$  Suppose that a new wonder drug (based on large quantities of vitamin C) has just been marketed that reduces the Poisson parameter to $\\lambda=2$ for 70 percent of the population. For the remaining population, the drug has no appreciable effect on colds.\r\n",
        "\r\n",
        "1. As a member of a pharmaceutical decision making body, you are interested in knowing how likely is it that the drug is beneficial for an individual if he/she tries the drug for a year and has $1$ cold in that time. Calculate this probability. **Hint**: apply Bayes' theorem to $P(\\text{Drug beneficial}\\ |\\ \\text{2 colds}).$\r\n",
        "2. You will approve the drug for production if 10 people who tried the drug for a year and have 1 cold in that time each, the probability that the drug is beneficial for at least 8 of them is greater than 98%. Will you approve the drug or not? "
      ]
    },
    {
      "cell_type": "code",
      "metadata": {
        "id": "9AL38DwRrRAP",
        "colab": {
          "base_uri": "https://localhost:8080/",
          "height": 34
        },
        "outputId": "6ec0f922-de6d-4e10-9a3e-29c4a4277b18"
      },
      "source": [
        "p_DB = 0.70 # probability that drug is beneficial\r\n",
        "p_DNB = 0.30 # probability that drug is not beneficial\r\n",
        "# Let X be the individual person falls in a cold for a given year ie,P(p_DB/X = 1)\r\n",
        "\r\n",
        "p = (p_DB*dpois(1,2))/((p_DB*dpois(1,2)) + (p_DNB*dpois(1,5))) # probability that drug is beneficial gievn 1 cold\r\n",
        "p"
      ],
      "execution_count": 43,
      "outputs": [
        {
          "output_type": "display_data",
          "data": {
            "text/plain": [
              "[1] 0.9493581"
            ],
            "text/latex": "0.949358116989829",
            "text/markdown": "0.949358116989829",
            "text/html": [
              "0.949358116989829"
            ]
          },
          "metadata": {
            "tags": []
          }
        }
      ]
    },
    {
      "cell_type": "code",
      "metadata": {
        "colab": {
          "base_uri": "https://localhost:8080/",
          "height": 34
        },
        "id": "66ztB-gCXgoc",
        "outputId": "bf68270b-2360-40a8-9034-ef2d4a7945c4"
      },
      "source": [
        "# calculate a probability to decide if you will approve the drug or not\r\n",
        "n=10\r\n",
        "p=0.9493\r\n",
        "sum(dbinom(c(8:10),n,p))"
      ],
      "execution_count": 46,
      "outputs": [
        {
          "output_type": "display_data",
          "data": {
            "text/plain": [
              "[1] 0.9880515"
            ],
            "text/latex": "0.988051456244843",
            "text/markdown": "0.988051456244843",
            "text/html": [
              "0.988051456244843"
            ]
          },
          "metadata": {
            "tags": []
          }
        }
      ]
    },
    {
      "cell_type": "markdown",
      "metadata": {
        "id": "deGk368cqtbV"
      },
      "source": [
        "**Problem-3**: A man claims to have extrasensory perception (ESP). As a test, a fair coin is flipped $10$ times and the man is asked to predict the outcome in advance. He gets $7$ out of $10$ correct. What is the probability that he would have done *at least* this well if he had no ESP?\r\n",
        "\r\n",
        "**Hint**: If he had no ESP, what would be the probability of success, i.e. guessing an outcome? You can treat the number of correct guesses if he had no ESP as an appropriate discrete random variable $X.$"
      ]
    },
    {
      "cell_type": "code",
      "metadata": {
        "id": "LgrAX0wLq--s",
        "colab": {
          "base_uri": "https://localhost:8080/",
          "height": 34
        },
        "outputId": "a0a42d46-d74f-4dca-a645-0718a61e2d22"
      },
      "source": [
        "n = 10\r\n",
        "p = 0.5\r\n",
        "j = c(7:10)\r\n",
        "sum(dbinom(j, n, p))"
      ],
      "execution_count": 8,
      "outputs": [
        {
          "output_type": "display_data",
          "data": {
            "text/plain": [
              "[1] 0.171875"
            ],
            "text/latex": "0.171875",
            "text/markdown": "0.171875",
            "text/html": [
              "0.171875"
            ]
          },
          "metadata": {
            "tags": []
          }
        }
      ]
    },
    {
      "cell_type": "markdown",
      "metadata": {
        "id": "gowOhx20FVXn"
      },
      "source": [
        "The probability of guesing atleast 7 flip coin is 0.1718\r\n",
        "\r\n"
      ]
    },
    {
      "cell_type": "markdown",
      "metadata": {
        "id": "25HoF9cCYgh-"
      },
      "source": [
        "**Problem-4**: Suppose a random number of $K$ customers shop at a supermarket in a day. Let $X_1,X_2,\\ldots,X_K$ represent the random number of items purchased independently by the $1$st, $2$nd, $\\ldots,$ $K$th customer. The total number of items sold in a day is a random number $Y$ such that: $$ Y = X_1+X_2+\\cdots+X_K.$$ Each individual customer is \r\n",
        "* 20% likely to be in the age group 20-40 (encoded as 0) who buys on an average 10 items based on a Poisson distribution. \r\n",
        "* 35% likely to be in the age group 40-60 (encoded as 1) who buys on an average 20 items based on a Poisson distribution.\r\n",
        "* 45% likely to be in the age group 60 and above (encoded as 2) who buys on an average 5 items based on a Poisson distribution.\r\n",
        "\r\n",
        "Calculate the probability that the total number of items sold in a day exceeds 350 using simulation. After that, plot a histogram showing the distribution of the total number of items sold in a day. Explain in one sentence the relationship between the mean and median of the total number of items sold in a day using the shape of the histogram."
      ]
    },
    {
      "cell_type": "code",
      "metadata": {
        "id": "G3OPXHvd68dk",
        "colab": {
          "base_uri": "https://localhost:8080/",
          "height": 34
        },
        "outputId": "9441b7e9-35e0-468c-e189-d6e7b337d985"
      },
      "source": [
        "simulationsize = 10000\r\n",
        "Y = integer(length(0)) # create an array full of zeros for the entire simulation\r\n",
        "K = rpois(simulationsize, 30)\r\n",
        "\r\n",
        "for (i in 1:length(K)){\r\n",
        "  if (K[i] != 0){\r\n",
        "    customertype = sample(c(0, 1, 2), size = K[i], prob = c(0.20,0.35,0.45), replace = TRUE)\r\n",
        "    Y[i] = sum(rpois(sum(customertype == 0), 10)) + sum(rpois(sum(customertype == 1), 20)) + sum(rpois(sum(customertype == 2), 5))\r\n",
        "    }\r\n",
        "}\r\n",
        "\r\n",
        "# Fraction of days where the total number of items sold in a day exceeds 350\r\n",
        "mean(Y>=350)"
      ],
      "execution_count": 47,
      "outputs": [
        {
          "output_type": "display_data",
          "data": {
            "text/plain": [
              "[1] 0.4203"
            ],
            "text/latex": "0.4203",
            "text/markdown": "0.4203",
            "text/html": [
              "0.4203"
            ]
          },
          "metadata": {
            "tags": []
          }
        }
      ]
    },
    {
      "cell_type": "code",
      "metadata": {
        "id": "fwGkHR_UHija",
        "colab": {
          "base_uri": "https://localhost:8080/",
          "height": 437
        },
        "outputId": "5548835b-f304-45ae-a5a8-cd8e9cc6d75d"
      },
      "source": [
        "df = as.data.frame(Y)\r\n",
        "colnames(df) = c('Purchases')\r\n",
        "p1 = ggplot(data = df, aes(x = Purchases)) +\r\n",
        "  geom_bar(stat = 'count', width = 0.7, fill = 'steelblue') +\r\n",
        "  theme(axis.text = element_text(size = 12),\r\n",
        "  axis.text.x = element_text(size = 14),\r\n",
        "  axis.text.y = element_text(size = 14),\r\n",
        "  axis.title =element_text(size = 14, face = \"bold\")) +\r\n",
        "  labs(y = 'Count',\r\n",
        "       title = sprintf('Mean = %f, Median = %f, Standard Deviation = %f', mean(Y), median(Y), sd(Y)))\r\n",
        "p1       "
      ],
      "execution_count": 42,
      "outputs": [
        {
          "output_type": "display_data",
          "data": {
            "image/png": "[encoded data removed]",
            "text/plain": [
              "plot without title"
            ]
          },
          "metadata": {
            "tags": [],
            "image/png": {
              "width": 420,
              "height": 420
            }
          }
        }
      ]
    }
  ]
}